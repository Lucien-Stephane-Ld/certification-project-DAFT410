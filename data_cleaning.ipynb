{
 "cells": [
  {
   "cell_type": "code",
   "execution_count": 1,
   "metadata": {},
   "outputs": [],
   "source": [
    "import pandas as pd\n",
    "import re"
   ]
  },
  {
   "cell_type": "markdown",
   "metadata": {},
   "source": [
    "Open CSV file into Dataframe"
   ]
  },
  {
   "cell_type": "code",
   "execution_count": 2,
   "metadata": {},
   "outputs": [],
   "source": [
    "ctl_df = pd.read_csv('sample_data_for_andy.csv', sep=',')"
   ]
  },
  {
   "cell_type": "code",
   "execution_count": null,
   "metadata": {},
   "outputs": [],
   "source": [
    "#ctl_df_sample = ctl_df.sample(10).to_csv(\"sample_data_for_andy.csv\")"
   ]
  },
  {
   "cell_type": "markdown",
   "metadata": {},
   "source": [
    "Check data"
   ]
  },
  {
   "cell_type": "code",
   "execution_count": 3,
   "metadata": {},
   "outputs": [
    {
     "data": {
      "text/html": [
       "<div>\n",
       "<style scoped>\n",
       "    .dataframe tbody tr th:only-of-type {\n",
       "        vertical-align: middle;\n",
       "    }\n",
       "\n",
       "    .dataframe tbody tr th {\n",
       "        vertical-align: top;\n",
       "    }\n",
       "\n",
       "    .dataframe thead th {\n",
       "        text-align: right;\n",
       "    }\n",
       "</style>\n",
       "<table border=\"1\" class=\"dataframe\">\n",
       "  <thead>\n",
       "    <tr style=\"text-align: right;\">\n",
       "      <th></th>\n",
       "      <th>Unnamed: 0</th>\n",
       "      <th>Name</th>\n",
       "      <th>Description</th>\n",
       "      <th>Recipe</th>\n",
       "      <th>Ingredients</th>\n",
       "      <th>Nutrition Facts</th>\n",
       "      <th>Video Link</th>\n",
       "    </tr>\n",
       "  </thead>\n",
       "  <tbody>\n",
       "    <tr>\n",
       "      <th>0</th>\n",
       "      <td>1178</td>\n",
       "      <td>Chartreuse Chocolate Kiss</td>\n",
       "      <td>Unfortunately, we have no description for this...</td>\n",
       "      <td>Combine ingredients in an Irish coffe mug. Top...</td>\n",
       "      <td>| .5 oz: Herbal Liqueur | 5 - 6 oz: Hot Choco...</td>\n",
       "      <td>There doesn't seem to be any nutritional facts...</td>\n",
       "      <td>There doesn't seem to be an instructional vide...</td>\n",
       "    </tr>\n",
       "    <tr>\n",
       "      <th>1</th>\n",
       "      <td>48</td>\n",
       "      <td>Bellwitch</td>\n",
       "      <td>Unfortunately, we have no description for this...</td>\n",
       "      <td>Shake ingredients in a cocktail shaker with ic...</td>\n",
       "      <td>| 1: Gin | 1 oz: Peach Schnapps | 1 oz: Tripl...</td>\n",
       "      <td>There doesn't seem to be any nutritional facts...</td>\n",
       "      <td>There doesn't seem to be an instructional vide...</td>\n",
       "    </tr>\n",
       "    <tr>\n",
       "      <th>2</th>\n",
       "      <td>2848</td>\n",
       "      <td>Jamaican 10-Speed</td>\n",
       "      <td>Unfortunately, we have no description for this...</td>\n",
       "      <td>Pour the Malibu rum. melon liqueur and creme d...</td>\n",
       "      <td>| 1.5 oz: Coconut Rum | 3/4 oz: Melon Liqueur...</td>\n",
       "      <td>There doesn't seem to be any nutritional facts...</td>\n",
       "      <td>There doesn't seem to be an instructional vide...</td>\n",
       "    </tr>\n",
       "    <tr>\n",
       "      <th>3</th>\n",
       "      <td>4003</td>\n",
       "      <td>Rooted in Survival Cocktail</td>\n",
       "      <td>Be sure to check out the rest of our Hunger Ga...</td>\n",
       "      <td>Add all ingredients in a tall Collins glass, s...</td>\n",
       "      <td>| 2 oz: Silver Tequila | 1 oz: Carrot Juice |...</td>\n",
       "      <td>Calories: 227kcal | Carbohydrates: 51g | Prote...</td>\n",
       "      <td>There doesn't seem to be an instructional vide...</td>\n",
       "    </tr>\n",
       "    <tr>\n",
       "      <th>4</th>\n",
       "      <td>4634</td>\n",
       "      <td>Amaretto Sour Classic</td>\n",
       "      <td>Learn how to make a Amaretto Sour cocktail wit...</td>\n",
       "      <td>Add all ingredients to a shaker with no ice an...</td>\n",
       "      <td>| 1.5 oz: Almond Liqueur | .75 oz: Bourbon Wh...</td>\n",
       "      <td>Calories: 225kcal | Carbohydrates: 39g | Prote...</td>\n",
       "      <td>There doesn't seem to be an instructional vide...</td>\n",
       "    </tr>\n",
       "  </tbody>\n",
       "</table>\n",
       "</div>"
      ],
      "text/plain": [
       "   Unnamed: 0                         Name  \\\n",
       "0        1178    Chartreuse Chocolate Kiss   \n",
       "1          48                    Bellwitch   \n",
       "2        2848            Jamaican 10-Speed   \n",
       "3        4003  Rooted in Survival Cocktail   \n",
       "4        4634        Amaretto Sour Classic   \n",
       "\n",
       "                                         Description  \\\n",
       "0  Unfortunately, we have no description for this...   \n",
       "1  Unfortunately, we have no description for this...   \n",
       "2  Unfortunately, we have no description for this...   \n",
       "3  Be sure to check out the rest of our Hunger Ga...   \n",
       "4  Learn how to make a Amaretto Sour cocktail wit...   \n",
       "\n",
       "                                              Recipe  \\\n",
       "0  Combine ingredients in an Irish coffe mug. Top...   \n",
       "1  Shake ingredients in a cocktail shaker with ic...   \n",
       "2  Pour the Malibu rum. melon liqueur and creme d...   \n",
       "3  Add all ingredients in a tall Collins glass, s...   \n",
       "4  Add all ingredients to a shaker with no ice an...   \n",
       "\n",
       "                                         Ingredients  \\\n",
       "0   | .5 oz: Herbal Liqueur | 5 - 6 oz: Hot Choco...   \n",
       "1   | 1: Gin | 1 oz: Peach Schnapps | 1 oz: Tripl...   \n",
       "2   | 1.5 oz: Coconut Rum | 3/4 oz: Melon Liqueur...   \n",
       "3   | 2 oz: Silver Tequila | 1 oz: Carrot Juice |...   \n",
       "4   | 1.5 oz: Almond Liqueur | .75 oz: Bourbon Wh...   \n",
       "\n",
       "                                     Nutrition Facts  \\\n",
       "0  There doesn't seem to be any nutritional facts...   \n",
       "1  There doesn't seem to be any nutritional facts...   \n",
       "2  There doesn't seem to be any nutritional facts...   \n",
       "3  Calories: 227kcal | Carbohydrates: 51g | Prote...   \n",
       "4  Calories: 225kcal | Carbohydrates: 39g | Prote...   \n",
       "\n",
       "                                          Video Link  \n",
       "0  There doesn't seem to be an instructional vide...  \n",
       "1  There doesn't seem to be an instructional vide...  \n",
       "2  There doesn't seem to be an instructional vide...  \n",
       "3  There doesn't seem to be an instructional vide...  \n",
       "4  There doesn't seem to be an instructional vide...  "
      ]
     },
     "execution_count": 3,
     "metadata": {},
     "output_type": "execute_result"
    }
   ],
   "source": [
    "ctl_df.head()"
   ]
  },
  {
   "cell_type": "code",
   "execution_count": 4,
   "metadata": {},
   "outputs": [
    {
     "data": {
      "text/html": [
       "<div>\n",
       "<style scoped>\n",
       "    .dataframe tbody tr th:only-of-type {\n",
       "        vertical-align: middle;\n",
       "    }\n",
       "\n",
       "    .dataframe tbody tr th {\n",
       "        vertical-align: top;\n",
       "    }\n",
       "\n",
       "    .dataframe thead th {\n",
       "        text-align: right;\n",
       "    }\n",
       "</style>\n",
       "<table border=\"1\" class=\"dataframe\">\n",
       "  <thead>\n",
       "    <tr style=\"text-align: right;\">\n",
       "      <th></th>\n",
       "      <th>Unnamed: 0</th>\n",
       "    </tr>\n",
       "  </thead>\n",
       "  <tbody>\n",
       "    <tr>\n",
       "      <th>count</th>\n",
       "      <td>10.000000</td>\n",
       "    </tr>\n",
       "    <tr>\n",
       "      <th>mean</th>\n",
       "      <td>2164.400000</td>\n",
       "    </tr>\n",
       "    <tr>\n",
       "      <th>std</th>\n",
       "      <td>1378.896757</td>\n",
       "    </tr>\n",
       "    <tr>\n",
       "      <th>min</th>\n",
       "      <td>48.000000</td>\n",
       "    </tr>\n",
       "    <tr>\n",
       "      <th>25%</th>\n",
       "      <td>1276.500000</td>\n",
       "    </tr>\n",
       "    <tr>\n",
       "      <th>50%</th>\n",
       "      <td>1881.500000</td>\n",
       "    </tr>\n",
       "    <tr>\n",
       "      <th>75%</th>\n",
       "      <td>2743.500000</td>\n",
       "    </tr>\n",
       "    <tr>\n",
       "      <th>max</th>\n",
       "      <td>4634.000000</td>\n",
       "    </tr>\n",
       "  </tbody>\n",
       "</table>\n",
       "</div>"
      ],
      "text/plain": [
       "        Unnamed: 0\n",
       "count    10.000000\n",
       "mean   2164.400000\n",
       "std    1378.896757\n",
       "min      48.000000\n",
       "25%    1276.500000\n",
       "50%    1881.500000\n",
       "75%    2743.500000\n",
       "max    4634.000000"
      ]
     },
     "execution_count": 4,
     "metadata": {},
     "output_type": "execute_result"
    }
   ],
   "source": [
    "ctl_df.describe()"
   ]
  },
  {
   "cell_type": "markdown",
   "metadata": {},
   "source": [
    "## CLEANING"
   ]
  },
  {
   "cell_type": "markdown",
   "metadata": {},
   "source": [
    "It seems there are duplicates in the cocktails."
   ]
  },
  {
   "cell_type": "code",
   "execution_count": 5,
   "metadata": {},
   "outputs": [
    {
     "data": {
      "text/plain": [
       "Name                       \n",
       "Alaskan Oil Slick              1\n",
       "Amaretto Sour Classic          1\n",
       "Bellwitch                      1\n",
       "Chartreuse Chocolate Kiss      1\n",
       "Cranberry Vodka Slush          1\n",
       "Cuba Libra                     1\n",
       "Fuzzy Shark                    1\n",
       "Green Mirage                   1\n",
       "Jamaican 10-Speed              1\n",
       "Rooted in Survival Cocktail    1\n",
       "dtype: int64"
      ]
     },
     "execution_count": 5,
     "metadata": {},
     "output_type": "execute_result"
    }
   ],
   "source": [
    "ctl_df.value_counts(['Name'])"
   ]
  },
  {
   "cell_type": "markdown",
   "metadata": {},
   "source": [
    "We should therefore drop the duplicates."
   ]
  },
  {
   "cell_type": "code",
   "execution_count": 6,
   "metadata": {},
   "outputs": [],
   "source": [
    "unique_ctl_df = ctl_df.drop_duplicates(subset=['Name'])"
   ]
  },
  {
   "cell_type": "code",
   "execution_count": 7,
   "metadata": {},
   "outputs": [
    {
     "data": {
      "text/plain": [
       "Name                       \n",
       "Alaskan Oil Slick              1\n",
       "Amaretto Sour Classic          1\n",
       "Bellwitch                      1\n",
       "Chartreuse Chocolate Kiss      1\n",
       "Cranberry Vodka Slush          1\n",
       "Cuba Libra                     1\n",
       "Fuzzy Shark                    1\n",
       "Green Mirage                   1\n",
       "Jamaican 10-Speed              1\n",
       "Rooted in Survival Cocktail    1\n",
       "dtype: int64"
      ]
     },
     "execution_count": 7,
     "metadata": {},
     "output_type": "execute_result"
    }
   ],
   "source": [
    "unique_ctl_df.value_counts(['Name'])"
   ]
  },
  {
   "cell_type": "code",
   "execution_count": 8,
   "metadata": {},
   "outputs": [
    {
     "data": {
      "text/html": [
       "<div>\n",
       "<style scoped>\n",
       "    .dataframe tbody tr th:only-of-type {\n",
       "        vertical-align: middle;\n",
       "    }\n",
       "\n",
       "    .dataframe tbody tr th {\n",
       "        vertical-align: top;\n",
       "    }\n",
       "\n",
       "    .dataframe thead th {\n",
       "        text-align: right;\n",
       "    }\n",
       "</style>\n",
       "<table border=\"1\" class=\"dataframe\">\n",
       "  <thead>\n",
       "    <tr style=\"text-align: right;\">\n",
       "      <th></th>\n",
       "      <th>Unnamed: 0</th>\n",
       "    </tr>\n",
       "  </thead>\n",
       "  <tbody>\n",
       "    <tr>\n",
       "      <th>count</th>\n",
       "      <td>10.000000</td>\n",
       "    </tr>\n",
       "    <tr>\n",
       "      <th>mean</th>\n",
       "      <td>2164.400000</td>\n",
       "    </tr>\n",
       "    <tr>\n",
       "      <th>std</th>\n",
       "      <td>1378.896757</td>\n",
       "    </tr>\n",
       "    <tr>\n",
       "      <th>min</th>\n",
       "      <td>48.000000</td>\n",
       "    </tr>\n",
       "    <tr>\n",
       "      <th>25%</th>\n",
       "      <td>1276.500000</td>\n",
       "    </tr>\n",
       "    <tr>\n",
       "      <th>50%</th>\n",
       "      <td>1881.500000</td>\n",
       "    </tr>\n",
       "    <tr>\n",
       "      <th>75%</th>\n",
       "      <td>2743.500000</td>\n",
       "    </tr>\n",
       "    <tr>\n",
       "      <th>max</th>\n",
       "      <td>4634.000000</td>\n",
       "    </tr>\n",
       "  </tbody>\n",
       "</table>\n",
       "</div>"
      ],
      "text/plain": [
       "        Unnamed: 0\n",
       "count    10.000000\n",
       "mean   2164.400000\n",
       "std    1378.896757\n",
       "min      48.000000\n",
       "25%    1276.500000\n",
       "50%    1881.500000\n",
       "75%    2743.500000\n",
       "max    4634.000000"
      ]
     },
     "execution_count": 8,
     "metadata": {},
     "output_type": "execute_result"
    }
   ],
   "source": [
    "unique_ctl_df.describe()"
   ]
  },
  {
   "cell_type": "code",
   "execution_count": 9,
   "metadata": {},
   "outputs": [
    {
     "data": {
      "text/html": [
       "<div>\n",
       "<style scoped>\n",
       "    .dataframe tbody tr th:only-of-type {\n",
       "        vertical-align: middle;\n",
       "    }\n",
       "\n",
       "    .dataframe tbody tr th {\n",
       "        vertical-align: top;\n",
       "    }\n",
       "\n",
       "    .dataframe thead th {\n",
       "        text-align: right;\n",
       "    }\n",
       "</style>\n",
       "<table border=\"1\" class=\"dataframe\">\n",
       "  <thead>\n",
       "    <tr style=\"text-align: right;\">\n",
       "      <th></th>\n",
       "      <th>Unnamed: 0</th>\n",
       "      <th>Name</th>\n",
       "      <th>Description</th>\n",
       "      <th>Recipe</th>\n",
       "      <th>Ingredients</th>\n",
       "      <th>Nutrition Facts</th>\n",
       "      <th>Video Link</th>\n",
       "    </tr>\n",
       "  </thead>\n",
       "  <tbody>\n",
       "    <tr>\n",
       "      <th>0</th>\n",
       "      <td>1178</td>\n",
       "      <td>Chartreuse Chocolate Kiss</td>\n",
       "      <td>Unfortunately, we have no description for this...</td>\n",
       "      <td>Combine ingredients in an Irish coffe mug. Top...</td>\n",
       "      <td>| .5 oz: Herbal Liqueur | 5 - 6 oz: Hot Choco...</td>\n",
       "      <td>There doesn't seem to be any nutritional facts...</td>\n",
       "      <td>There doesn't seem to be an instructional vide...</td>\n",
       "    </tr>\n",
       "    <tr>\n",
       "      <th>1</th>\n",
       "      <td>48</td>\n",
       "      <td>Bellwitch</td>\n",
       "      <td>Unfortunately, we have no description for this...</td>\n",
       "      <td>Shake ingredients in a cocktail shaker with ic...</td>\n",
       "      <td>| 1: Gin | 1 oz: Peach Schnapps | 1 oz: Tripl...</td>\n",
       "      <td>There doesn't seem to be any nutritional facts...</td>\n",
       "      <td>There doesn't seem to be an instructional vide...</td>\n",
       "    </tr>\n",
       "    <tr>\n",
       "      <th>2</th>\n",
       "      <td>2848</td>\n",
       "      <td>Jamaican 10-Speed</td>\n",
       "      <td>Unfortunately, we have no description for this...</td>\n",
       "      <td>Pour the Malibu rum. melon liqueur and creme d...</td>\n",
       "      <td>| 1.5 oz: Coconut Rum | 3/4 oz: Melon Liqueur...</td>\n",
       "      <td>There doesn't seem to be any nutritional facts...</td>\n",
       "      <td>There doesn't seem to be an instructional vide...</td>\n",
       "    </tr>\n",
       "    <tr>\n",
       "      <th>3</th>\n",
       "      <td>4003</td>\n",
       "      <td>Rooted in Survival Cocktail</td>\n",
       "      <td>Be sure to check out the rest of our Hunger Ga...</td>\n",
       "      <td>Add all ingredients in a tall Collins glass, s...</td>\n",
       "      <td>| 2 oz: Silver Tequila | 1 oz: Carrot Juice |...</td>\n",
       "      <td>Calories: 227kcal | Carbohydrates: 51g | Prote...</td>\n",
       "      <td>There doesn't seem to be an instructional vide...</td>\n",
       "    </tr>\n",
       "    <tr>\n",
       "      <th>4</th>\n",
       "      <td>4634</td>\n",
       "      <td>Amaretto Sour Classic</td>\n",
       "      <td>Learn how to make a Amaretto Sour cocktail wit...</td>\n",
       "      <td>Add all ingredients to a shaker with no ice an...</td>\n",
       "      <td>| 1.5 oz: Almond Liqueur | .75 oz: Bourbon Wh...</td>\n",
       "      <td>Calories: 225kcal | Carbohydrates: 39g | Prote...</td>\n",
       "      <td>There doesn't seem to be an instructional vide...</td>\n",
       "    </tr>\n",
       "  </tbody>\n",
       "</table>\n",
       "</div>"
      ],
      "text/plain": [
       "   Unnamed: 0                         Name  \\\n",
       "0        1178    Chartreuse Chocolate Kiss   \n",
       "1          48                    Bellwitch   \n",
       "2        2848            Jamaican 10-Speed   \n",
       "3        4003  Rooted in Survival Cocktail   \n",
       "4        4634        Amaretto Sour Classic   \n",
       "\n",
       "                                         Description  \\\n",
       "0  Unfortunately, we have no description for this...   \n",
       "1  Unfortunately, we have no description for this...   \n",
       "2  Unfortunately, we have no description for this...   \n",
       "3  Be sure to check out the rest of our Hunger Ga...   \n",
       "4  Learn how to make a Amaretto Sour cocktail wit...   \n",
       "\n",
       "                                              Recipe  \\\n",
       "0  Combine ingredients in an Irish coffe mug. Top...   \n",
       "1  Shake ingredients in a cocktail shaker with ic...   \n",
       "2  Pour the Malibu rum. melon liqueur and creme d...   \n",
       "3  Add all ingredients in a tall Collins glass, s...   \n",
       "4  Add all ingredients to a shaker with no ice an...   \n",
       "\n",
       "                                         Ingredients  \\\n",
       "0   | .5 oz: Herbal Liqueur | 5 - 6 oz: Hot Choco...   \n",
       "1   | 1: Gin | 1 oz: Peach Schnapps | 1 oz: Tripl...   \n",
       "2   | 1.5 oz: Coconut Rum | 3/4 oz: Melon Liqueur...   \n",
       "3   | 2 oz: Silver Tequila | 1 oz: Carrot Juice |...   \n",
       "4   | 1.5 oz: Almond Liqueur | .75 oz: Bourbon Wh...   \n",
       "\n",
       "                                     Nutrition Facts  \\\n",
       "0  There doesn't seem to be any nutritional facts...   \n",
       "1  There doesn't seem to be any nutritional facts...   \n",
       "2  There doesn't seem to be any nutritional facts...   \n",
       "3  Calories: 227kcal | Carbohydrates: 51g | Prote...   \n",
       "4  Calories: 225kcal | Carbohydrates: 39g | Prote...   \n",
       "\n",
       "                                          Video Link  \n",
       "0  There doesn't seem to be an instructional vide...  \n",
       "1  There doesn't seem to be an instructional vide...  \n",
       "2  There doesn't seem to be an instructional vide...  \n",
       "3  There doesn't seem to be an instructional vide...  \n",
       "4  There doesn't seem to be an instructional vide...  "
      ]
     },
     "execution_count": 9,
     "metadata": {},
     "output_type": "execute_result"
    }
   ],
   "source": [
    "unique_ctl_df.head()"
   ]
  },
  {
   "cell_type": "markdown",
   "metadata": {},
   "source": [
    "### Clean ingredients  \n",
    "Split ingredients & their measure :  Ingredient 1 / Measure 1"
   ]
  },
  {
   "cell_type": "code",
   "execution_count": 10,
   "metadata": {},
   "outputs": [],
   "source": [
    "temp_df = pd.DataFrame(unique_ctl_df['Ingredients'])"
   ]
  },
  {
   "cell_type": "code",
   "execution_count": 11,
   "metadata": {},
   "outputs": [
    {
     "data": {
      "text/html": [
       "<div>\n",
       "<style scoped>\n",
       "    .dataframe tbody tr th:only-of-type {\n",
       "        vertical-align: middle;\n",
       "    }\n",
       "\n",
       "    .dataframe tbody tr th {\n",
       "        vertical-align: top;\n",
       "    }\n",
       "\n",
       "    .dataframe thead th {\n",
       "        text-align: right;\n",
       "    }\n",
       "</style>\n",
       "<table border=\"1\" class=\"dataframe\">\n",
       "  <thead>\n",
       "    <tr style=\"text-align: right;\">\n",
       "      <th></th>\n",
       "      <th>Ingredients</th>\n",
       "    </tr>\n",
       "  </thead>\n",
       "  <tbody>\n",
       "    <tr>\n",
       "      <th>0</th>\n",
       "      <td>| .5 oz: Herbal Liqueur | 5 - 6 oz: Hot Chocolate | 1 Pinch(s): Chocolate Shavings | .5 -1:oz: Whipped Cream</td>\n",
       "    </tr>\n",
       "    <tr>\n",
       "      <th>1</th>\n",
       "      <td>| 1: Gin | 1 oz: Peach Schnapps | 1 oz: Triple Sec</td>\n",
       "    </tr>\n",
       "    <tr>\n",
       "      <th>2</th>\n",
       "      <td>| 1.5 oz: Coconut Rum | 3/4 oz: Melon Liqueur | 3/4 oz: Creme De Bananes | 1 Splash(s): Milk | 3 oz: Apple Juice</td>\n",
       "    </tr>\n",
       "    <tr>\n",
       "      <th>3</th>\n",
       "      <td>| 2 oz: Silver Tequila | 1 oz: Carrot Juice | .5 oz: Lemon Juice | .5 oz: Agave Nectar | 1 dash: Bitters | 1 splash: Blood Orange Soda</td>\n",
       "    </tr>\n",
       "    <tr>\n",
       "      <th>4</th>\n",
       "      <td>| 1.5 oz: Almond Liqueur | .75 oz: Bourbon Whiskey | 1 oz: Sugar Syrup | 1 tsp: Lemon Juice | .5 oz: Egg White - Beaten | 1: Cherry | 1: Orange(s) - Slice</td>\n",
       "    </tr>\n",
       "    <tr>\n",
       "      <th>5</th>\n",
       "      <td>| 4 Cups(s): Water | 12 oz: Lemonade | 6 oz: Cranberry Juice | 1 Cup(s): Sugar | 1 Bottle(s): Vodka</td>\n",
       "    </tr>\n",
       "    <tr>\n",
       "      <th>6</th>\n",
       "      <td>| 1 oz: Vodka | .5 oz: Herbal Liqueur | 2 tsp: Dry Vermouth | 1 tsp: Blue Curacao Liqueur</td>\n",
       "    </tr>\n",
       "    <tr>\n",
       "      <th>7</th>\n",
       "      <td>| .5 oz: Blue Curacao Liqueur | .5 oz: Herbal Liqueur | .5:oz: Peppermint Schnapps</td>\n",
       "    </tr>\n",
       "    <tr>\n",
       "      <th>8</th>\n",
       "      <td>| 1.5 oz: Peach Schnapps | .5 oz: Blue Curacao Liqueur | 4 oz: Orange Juice | 1 Cup(s): Ice</td>\n",
       "    </tr>\n",
       "    <tr>\n",
       "      <th>9</th>\n",
       "      <td>| 1-2 oz: Dark Rum | 1: Lime | fill with: Cola |: Ice</td>\n",
       "    </tr>\n",
       "  </tbody>\n",
       "</table>\n",
       "</div>"
      ],
      "text/plain": [
       "                                                                                                                                                   Ingredients\n",
       "0                                                 | .5 oz: Herbal Liqueur | 5 - 6 oz: Hot Chocolate | 1 Pinch(s): Chocolate Shavings | .5 -1:oz: Whipped Cream\n",
       "1                                                                                                           | 1: Gin | 1 oz: Peach Schnapps | 1 oz: Triple Sec\n",
       "2                                             | 1.5 oz: Coconut Rum | 3/4 oz: Melon Liqueur | 3/4 oz: Creme De Bananes | 1 Splash(s): Milk | 3 oz: Apple Juice\n",
       "3                       | 2 oz: Silver Tequila | 1 oz: Carrot Juice | .5 oz: Lemon Juice | .5 oz: Agave Nectar | 1 dash: Bitters | 1 splash: Blood Orange Soda\n",
       "4   | 1.5 oz: Almond Liqueur | .75 oz: Bourbon Whiskey | 1 oz: Sugar Syrup | 1 tsp: Lemon Juice | .5 oz: Egg White - Beaten | 1: Cherry | 1: Orange(s) - Slice\n",
       "5                                                          | 4 Cups(s): Water | 12 oz: Lemonade | 6 oz: Cranberry Juice | 1 Cup(s): Sugar | 1 Bottle(s): Vodka\n",
       "6                                                                    | 1 oz: Vodka | .5 oz: Herbal Liqueur | 2 tsp: Dry Vermouth | 1 tsp: Blue Curacao Liqueur\n",
       "7                                                                           | .5 oz: Blue Curacao Liqueur | .5 oz: Herbal Liqueur | .5:oz: Peppermint Schnapps\n",
       "8                                                                  | 1.5 oz: Peach Schnapps | .5 oz: Blue Curacao Liqueur | 4 oz: Orange Juice | 1 Cup(s): Ice\n",
       "9                                                                                                        | 1-2 oz: Dark Rum | 1: Lime | fill with: Cola |: Ice"
      ]
     },
     "execution_count": 11,
     "metadata": {},
     "output_type": "execute_result"
    }
   ],
   "source": [
    "pd.set_option('display.max_colwidth', None)\n",
    "temp_df"
   ]
  },
  {
   "cell_type": "code",
   "execution_count": 12,
   "metadata": {},
   "outputs": [],
   "source": [
    "txt_to_clean = unique_ctl_df['Ingredients'].astype(str).values.tolist()"
   ]
  },
  {
   "cell_type": "code",
   "execution_count": 13,
   "metadata": {},
   "outputs": [
    {
     "data": {
      "text/plain": [
       "' | .5 oz: Herbal Liqueur | 5 - 6 oz: Hot Chocolate | 1 Pinch(s): Chocolate Shavings | .5 -1:oz: Whipped Cream'"
      ]
     },
     "execution_count": 13,
     "metadata": {},
     "output_type": "execute_result"
    }
   ],
   "source": [
    "txt_to_clean[0]"
   ]
  },
  {
   "cell_type": "code",
   "execution_count": null,
   "metadata": {},
   "outputs": [],
   "source": [
    "# txt_items_split = []\n",
    "\n",
    "# for x in txt_to_clean:\n",
    "#     x = x.replace(':','\":\"').split(\"|\")[1:]\n",
    "#     txt_items_split.append(x)"
   ]
  },
  {
   "cell_type": "code",
   "execution_count": 14,
   "metadata": {},
   "outputs": [],
   "source": [
    "txt_items_split = []\n",
    "\n",
    "for x in txt_to_clean:\n",
    "    x = x.split(\"|\")#[1:]\n",
    "    x = x[1:]\n",
    "    txt_items_split.append(x)"
   ]
  },
  {
   "cell_type": "code",
   "execution_count": 15,
   "metadata": {},
   "outputs": [
    {
     "data": {
      "text/plain": [
       "[' .5 oz: Herbal Liqueur ',\n",
       " ' 5 - 6 oz: Hot Chocolate ',\n",
       " ' 1 Pinch(s): Chocolate Shavings ',\n",
       " ' .5 -1:oz: Whipped Cream']"
      ]
     },
     "execution_count": 15,
     "metadata": {},
     "output_type": "execute_result"
    }
   ],
   "source": [
    "txt_items_split[0]"
   ]
  },
  {
   "cell_type": "code",
   "execution_count": 17,
   "metadata": {},
   "outputs": [
    {
     "data": {
      "text/plain": [
       "[' 2 oz: Silver Tequila ',\n",
       " ' 1 oz: Carrot Juice ',\n",
       " ' .5 oz: Lemon Juice ',\n",
       " ' .5 oz: Agave Nectar ',\n",
       " ' 1 dash: Bitters ',\n",
       " ' 1 splash: Blood Orange Soda']"
      ]
     },
     "execution_count": 17,
     "metadata": {},
     "output_type": "execute_result"
    }
   ],
   "source": [
    "txt_items_split[3]  # lists as x in txt_items_split"
   ]
  },
  {
   "cell_type": "code",
   "execution_count": 19,
   "metadata": {},
   "outputs": [
    {
     "data": {
      "text/plain": [
       "' 2 oz: Silver Tequila '"
      ]
     },
     "execution_count": 19,
     "metadata": {},
     "output_type": "execute_result"
    }
   ],
   "source": [
    "txt_items_split[3][0]  # str as y in x"
   ]
  },
  {
   "cell_type": "code",
   "execution_count": 20,
   "metadata": {},
   "outputs": [
    {
     "ename": "AttributeError",
     "evalue": "'list' object has no attribute 'split'",
     "output_type": "error",
     "traceback": [
      "\u001b[1;31m---------------------------------------------------------------------------\u001b[0m",
      "\u001b[1;31mAttributeError\u001b[0m                            Traceback (most recent call last)",
      "\u001b[1;32m~\\AppData\\Local\\Temp/ipykernel_13696/1805544036.py\u001b[0m in \u001b[0;36m<module>\u001b[1;34m\u001b[0m\n\u001b[0;32m      4\u001b[0m \u001b[1;32mfor\u001b[0m \u001b[0mx\u001b[0m \u001b[1;32min\u001b[0m \u001b[0mtxt_items_split\u001b[0m\u001b[1;33m:\u001b[0m\u001b[1;33m\u001b[0m\u001b[1;33m\u001b[0m\u001b[0m\n\u001b[0;32m      5\u001b[0m     \u001b[1;32mfor\u001b[0m \u001b[0my\u001b[0m \u001b[1;32min\u001b[0m \u001b[0mx\u001b[0m\u001b[1;33m:\u001b[0m\u001b[1;33m\u001b[0m\u001b[1;33m\u001b[0m\u001b[0m\n\u001b[1;32m----> 6\u001b[1;33m         \u001b[0my\u001b[0m \u001b[1;33m=\u001b[0m \u001b[0my\u001b[0m\u001b[1;33m.\u001b[0m\u001b[0msplit\u001b[0m\u001b[1;33m(\u001b[0m\u001b[1;34m':'\u001b[0m\u001b[1;33m)\u001b[0m\u001b[1;33m\u001b[0m\u001b[1;33m\u001b[0m\u001b[0m\n\u001b[0m\u001b[0;32m      7\u001b[0m         \u001b[0my\u001b[0m\u001b[1;33m[\u001b[0m\u001b[1;36m0\u001b[0m\u001b[1;33m]\u001b[0m \u001b[1;33m=\u001b[0m \u001b[0my\u001b[0m\u001b[1;33m[\u001b[0m\u001b[1;36m0\u001b[0m\u001b[1;33m]\u001b[0m\u001b[1;33m.\u001b[0m\u001b[0mstrip\u001b[0m\u001b[1;33m(\u001b[0m\u001b[1;33m)\u001b[0m\u001b[1;33m\u001b[0m\u001b[1;33m\u001b[0m\u001b[0m\n\u001b[0;32m      8\u001b[0m         \u001b[0my\u001b[0m\u001b[1;33m[\u001b[0m\u001b[1;36m1\u001b[0m\u001b[1;33m]\u001b[0m \u001b[1;33m=\u001b[0m \u001b[0my\u001b[0m\u001b[1;33m[\u001b[0m\u001b[1;36m1\u001b[0m\u001b[1;33m]\u001b[0m\u001b[1;33m.\u001b[0m\u001b[0mstrip\u001b[0m\u001b[1;33m(\u001b[0m\u001b[1;33m)\u001b[0m\u001b[1;33m\u001b[0m\u001b[1;33m\u001b[0m\u001b[0m\n",
      "\u001b[1;31mAttributeError\u001b[0m: 'list' object has no attribute 'split'"
     ]
    }
   ],
   "source": [
    "txt_items_split_clean = []\n",
    "ctl_ing_list = []\n",
    "\n",
    "for x in txt_items_split:\n",
    "    for y in x:\n",
    "        y = y.split(':')\n",
    "        y[0] = y[0].strip()\n",
    "        y[1] = y[1].strip()\n",
    "        x.append(y)\n",
    "    txt_items_split_clean.append(x)"
   ]
  },
  {
   "cell_type": "code",
   "execution_count": 21,
   "metadata": {},
   "outputs": [
    {
     "ename": "IndexError",
     "evalue": "list index out of range",
     "output_type": "error",
     "traceback": [
      "\u001b[1;31m---------------------------------------------------------------------------\u001b[0m",
      "\u001b[1;31mIndexError\u001b[0m                                Traceback (most recent call last)",
      "\u001b[1;32m~\\AppData\\Local\\Temp/ipykernel_13696/4067857730.py\u001b[0m in \u001b[0;36m<module>\u001b[1;34m\u001b[0m\n\u001b[1;32m----> 1\u001b[1;33m \u001b[0mtxt_items_split_clean\u001b[0m\u001b[1;33m[\u001b[0m\u001b[1;36m0\u001b[0m\u001b[1;33m]\u001b[0m\u001b[1;33m\u001b[0m\u001b[1;33m\u001b[0m\u001b[0m\n\u001b[0m",
      "\u001b[1;31mIndexError\u001b[0m: list index out of range"
     ]
    }
   ],
   "source": [
    "txt_items_split_clean[0]"
   ]
  },
  {
   "cell_type": "code",
   "execution_count": null,
   "metadata": {},
   "outputs": [],
   "source": [
    "# txt_items_split_clean = []\n",
    "\n",
    "# for x in txt_items_split:\n",
    "#     for y in x:\n",
    "#         y = y.split(':')\n",
    "#         y[0] = y[0].strip()\n",
    "#         y[1] = y[1].strip()\n",
    "#         txt_items_split_clean.append(y)"
   ]
  },
  {
   "cell_type": "code",
   "execution_count": 22,
   "metadata": {},
   "outputs": [
    {
     "data": {
      "text/plain": [
       "[]"
      ]
     },
     "execution_count": 22,
     "metadata": {},
     "output_type": "execute_result"
    }
   ],
   "source": [
    "txt_items_split_clean"
   ]
  },
  {
   "cell_type": "code",
   "execution_count": null,
   "metadata": {},
   "outputs": [],
   "source": [
    "txt_items_split_clean = []\n",
    "\n",
    "for sub_lst in txt_items_split:\n",
    "    for item in sub_lst:\n",
    "        item = item.strip().split(':')\n",
    "        item[1] = item[1].strip()\n",
    "        x.append(item)"
   ]
  },
  {
   "cell_type": "code",
   "execution_count": 27,
   "metadata": {},
   "outputs": [
    {
     "data": {
      "text/plain": [
       "[['1 oz', 'Brandy'],\n",
       " ['.5 oz', 'Dry Vermouth'],\n",
       " ['.25 oz', 'White Creme De Menthe'],\n",
       " ['1 oz', 'Orange Juice'],\n",
       " ['1 tsp', 'Grenadine Syrup'],\n",
       " ['1 oz', 'Red Port']]"
      ]
     },
     "execution_count": 27,
     "metadata": {},
     "output_type": "execute_result"
    }
   ],
   "source": [
    "txt_items_split_clean"
   ]
  },
  {
   "cell_type": "code",
   "execution_count": 30,
   "metadata": {},
   "outputs": [
    {
     "ename": "IndexError",
     "evalue": "list index out of range",
     "output_type": "error",
     "traceback": [
      "\u001b[1;31m---------------------------------------------------------------------------\u001b[0m",
      "\u001b[1;31mIndexError\u001b[0m                                Traceback (most recent call last)",
      "Cell \u001b[1;32mIn[30], line 1\u001b[0m\n\u001b[1;32m----> 1\u001b[0m txt_items_split_clean[\u001b[39m50\u001b[39;49m][\u001b[39m1\u001b[39m]\n",
      "\u001b[1;31mIndexError\u001b[0m: list index out of range"
     ]
    }
   ],
   "source": [
    "txt_items_split_clean[50][1]"
   ]
  },
  {
   "cell_type": "code",
   "execution_count": 26,
   "metadata": {},
   "outputs": [
    {
     "data": {
      "text/html": [
       "<div>\n",
       "<style scoped>\n",
       "    .dataframe tbody tr th:only-of-type {\n",
       "        vertical-align: middle;\n",
       "    }\n",
       "\n",
       "    .dataframe tbody tr th {\n",
       "        vertical-align: top;\n",
       "    }\n",
       "\n",
       "    .dataframe thead th {\n",
       "        text-align: right;\n",
       "    }\n",
       "</style>\n",
       "<table border=\"1\" class=\"dataframe\">\n",
       "  <thead>\n",
       "    <tr style=\"text-align: right;\">\n",
       "      <th></th>\n",
       "      <th>Ingredients</th>\n",
       "    </tr>\n",
       "  </thead>\n",
       "  <tbody>\n",
       "    <tr>\n",
       "      <th>0</th>\n",
       "      <td>| .5 oz: Herbal Liqueur | 5 - 6 oz: Hot Chocolate | 1 Pinch(s): Chocolate Shavings | .5 -1:oz: Whipped Cream</td>\n",
       "    </tr>\n",
       "    <tr>\n",
       "      <th>1</th>\n",
       "      <td>| 1: Gin | 1 oz: Peach Schnapps | 1 oz: Triple Sec</td>\n",
       "    </tr>\n",
       "    <tr>\n",
       "      <th>2</th>\n",
       "      <td>| 1.5 oz: Coconut Rum | 3/4 oz: Melon Liqueur | 3/4 oz: Creme De Bananes | 1 Splash(s): Milk | 3 oz: Apple Juice</td>\n",
       "    </tr>\n",
       "    <tr>\n",
       "      <th>3</th>\n",
       "      <td>| 2 oz: Silver Tequila | 1 oz: Carrot Juice | .5 oz: Lemon Juice | .5 oz: Agave Nectar | 1 dash: Bitters | 1 splash: Blood Orange Soda</td>\n",
       "    </tr>\n",
       "    <tr>\n",
       "      <th>4</th>\n",
       "      <td>| 1.5 oz: Almond Liqueur | .75 oz: Bourbon Whiskey | 1 oz: Sugar Syrup | 1 tsp: Lemon Juice | .5 oz: Egg White - Beaten | 1: Cherry | 1: Orange(s) - Slice</td>\n",
       "    </tr>\n",
       "    <tr>\n",
       "      <th>5</th>\n",
       "      <td>| 4 Cups(s): Water | 12 oz: Lemonade | 6 oz: Cranberry Juice | 1 Cup(s): Sugar | 1 Bottle(s): Vodka</td>\n",
       "    </tr>\n",
       "    <tr>\n",
       "      <th>6</th>\n",
       "      <td>| 1 oz: Vodka | .5 oz: Herbal Liqueur | 2 tsp: Dry Vermouth | 1 tsp: Blue Curacao Liqueur</td>\n",
       "    </tr>\n",
       "    <tr>\n",
       "      <th>7</th>\n",
       "      <td>| .5 oz: Blue Curacao Liqueur | .5 oz: Herbal Liqueur | .5:oz: Peppermint Schnapps</td>\n",
       "    </tr>\n",
       "    <tr>\n",
       "      <th>8</th>\n",
       "      <td>| 1.5 oz: Peach Schnapps | .5 oz: Blue Curacao Liqueur | 4 oz: Orange Juice | 1 Cup(s): Ice</td>\n",
       "    </tr>\n",
       "    <tr>\n",
       "      <th>9</th>\n",
       "      <td>| 1-2 oz: Dark Rum | 1: Lime | fill with: Cola |: Ice</td>\n",
       "    </tr>\n",
       "  </tbody>\n",
       "</table>\n",
       "</div>"
      ],
      "text/plain": [
       "                                                                                                                                                   Ingredients\n",
       "0                                                 | .5 oz: Herbal Liqueur | 5 - 6 oz: Hot Chocolate | 1 Pinch(s): Chocolate Shavings | .5 -1:oz: Whipped Cream\n",
       "1                                                                                                           | 1: Gin | 1 oz: Peach Schnapps | 1 oz: Triple Sec\n",
       "2                                             | 1.5 oz: Coconut Rum | 3/4 oz: Melon Liqueur | 3/4 oz: Creme De Bananes | 1 Splash(s): Milk | 3 oz: Apple Juice\n",
       "3                       | 2 oz: Silver Tequila | 1 oz: Carrot Juice | .5 oz: Lemon Juice | .5 oz: Agave Nectar | 1 dash: Bitters | 1 splash: Blood Orange Soda\n",
       "4   | 1.5 oz: Almond Liqueur | .75 oz: Bourbon Whiskey | 1 oz: Sugar Syrup | 1 tsp: Lemon Juice | .5 oz: Egg White - Beaten | 1: Cherry | 1: Orange(s) - Slice\n",
       "5                                                          | 4 Cups(s): Water | 12 oz: Lemonade | 6 oz: Cranberry Juice | 1 Cup(s): Sugar | 1 Bottle(s): Vodka\n",
       "6                                                                    | 1 oz: Vodka | .5 oz: Herbal Liqueur | 2 tsp: Dry Vermouth | 1 tsp: Blue Curacao Liqueur\n",
       "7                                                                           | .5 oz: Blue Curacao Liqueur | .5 oz: Herbal Liqueur | .5:oz: Peppermint Schnapps\n",
       "8                                                                  | 1.5 oz: Peach Schnapps | .5 oz: Blue Curacao Liqueur | 4 oz: Orange Juice | 1 Cup(s): Ice\n",
       "9                                                                                                        | 1-2 oz: Dark Rum | 1: Lime | fill with: Cola |: Ice"
      ]
     },
     "execution_count": 26,
     "metadata": {},
     "output_type": "execute_result"
    }
   ],
   "source": [
    "temp_df"
   ]
  },
  {
   "cell_type": "code",
   "execution_count": 33,
   "metadata": {},
   "outputs": [
    {
     "name": "stdout",
     "output_type": "stream",
     "text": [
      "[[('.5 oz', 'Herbal Liqueur'), ('5 - 6 oz', 'Hot Chocolate'), ('1 Pinch(s)', 'Chocolate Shavings'), ('.5 -1 oz', 'Whipped Cream')], [('1', 'Gin'), ('1 oz', 'Peach Schnapps'), ('1 oz', 'Triple Sec')], [('1.5 oz', 'Coconut Rum'), ('3/4 oz', 'Melon Liqueur'), ('3/4 oz', 'Creme De Bananes'), ('1 Splash(s)', 'Milk'), ('3 oz', 'Apple Juice')], [('2 oz', 'Silver Tequila'), ('1 oz', 'Carrot Juice'), ('.5 oz', 'Lemon Juice'), ('.5 oz', 'Agave Nectar'), ('1 dash', 'Bitters'), ('1 splash', 'Blood Orange Soda')], [('1.5 oz', 'Almond Liqueur'), ('.75 oz', 'Bourbon Whiskey'), ('1 oz', 'Sugar Syrup'), ('1 tsp', 'Lemon Juice'), ('.5 oz', 'Egg White - Beaten'), ('1', 'Cherry'), ('1', 'Orange(s) - Slice')], [('4 Cups(s)', 'Water'), ('12 oz', 'Lemonade'), ('6 oz', 'Cranberry Juice'), ('1 Cup(s)', 'Sugar'), ('1 Bottle(s)', 'Vodka')], [('1 oz', 'Vodka'), ('.5 oz', 'Herbal Liqueur'), ('2 tsp', 'Dry Vermouth'), ('1 tsp', 'Blue Curacao Liqueur')], [('.5 oz', 'Blue Curacao Liqueur'), ('.5 oz', 'Herbal Liqueur'), ('.5 oz', 'Peppermint Schnapps')], [('1.5 oz', 'Peach Schnapps'), ('.5 oz', 'Blue Curacao Liqueur'), ('4 oz', 'Orange Juice'), ('1 Cup(s)', 'Ice')], [('1-2 oz', 'Dark Rum'), ('1', 'Lime'), ('fill with', 'Cola'), ('', 'Ice')]]\n"
     ]
    }
   ],
   "source": [
    "#  Cheat gpt\n",
    "\n",
    "ingredient_dict = []\n",
    "\n",
    "for row in temp_df['Ingredients']:\n",
    "\n",
    "    ingredient_row = []\n",
    "    ingredients = row.split('|')\n",
    "\n",
    "    for ingredient in ingredients:\n",
    "        ingredient = ingredient.replace(':oz',' oz')\n",
    "        parts = ingredient.split(':')\n",
    "\n",
    "        if len(parts) >= 2:\n",
    "            quantity = parts[0].strip()\n",
    "            ingredient_name = parts[1].strip()\n",
    "            ingredient_row.append((quantity, ingredient_name))\n",
    "\n",
    "    ingredient_dict.append(ingredient_row)\n",
    "\n",
    "print(ingredient_dict)"
   ]
  },
  {
   "cell_type": "code",
   "execution_count": 44,
   "metadata": {},
   "outputs": [],
   "source": [
    "ctl_df['ingredients2'] = ingredient_dict"
   ]
  },
  {
   "cell_type": "code",
   "execution_count": 56,
   "metadata": {},
   "outputs": [
    {
     "data": {
      "text/html": [
       "<div>\n",
       "<style scoped>\n",
       "    .dataframe tbody tr th:only-of-type {\n",
       "        vertical-align: middle;\n",
       "    }\n",
       "\n",
       "    .dataframe tbody tr th {\n",
       "        vertical-align: top;\n",
       "    }\n",
       "\n",
       "    .dataframe thead th {\n",
       "        text-align: right;\n",
       "    }\n",
       "</style>\n",
       "<table border=\"1\" class=\"dataframe\">\n",
       "  <thead>\n",
       "    <tr style=\"text-align: right;\">\n",
       "      <th></th>\n",
       "      <th>Unnamed: 0</th>\n",
       "      <th>Name</th>\n",
       "      <th>Description</th>\n",
       "      <th>Recipe</th>\n",
       "      <th>Ingredients</th>\n",
       "      <th>Nutrition Facts</th>\n",
       "      <th>Video Link</th>\n",
       "      <th>ingredients2</th>\n",
       "    </tr>\n",
       "  </thead>\n",
       "  <tbody>\n",
       "    <tr>\n",
       "      <th>0</th>\n",
       "      <td>1178</td>\n",
       "      <td>Chartreuse Chocolate Kiss</td>\n",
       "      <td>Unfortunately, we have no description for this drink... You'll have to describe it yourself!</td>\n",
       "      <td>Combine ingredients in an Irish coffe mug. Top with whipped cream and sprinkle of chocolate shavings.</td>\n",
       "      <td>| .5 oz: Herbal Liqueur | 5 - 6 oz: Hot Chocolate | 1 Pinch(s): Chocolate Shavings | .5 -1:oz: Whipped Cream</td>\n",
       "      <td>There doesn't seem to be any nutritional facts associated to this cocktail. But we know that's not why you're here...</td>\n",
       "      <td>There doesn't seem to be an instructional video for this cocktail. Why not make the tutorial yourself!</td>\n",
       "      <td>[(.5 oz, Herbal Liqueur), (5 - 6 oz, Hot Chocolate), (1 Pinch(s), Chocolate Shavings), (.5 -1 oz, Whipped Cream)]</td>\n",
       "    </tr>\n",
       "    <tr>\n",
       "      <th>1</th>\n",
       "      <td>48</td>\n",
       "      <td>Bellwitch</td>\n",
       "      <td>Unfortunately, we have no description for this drink... You'll have to describe it yourself!</td>\n",
       "      <td>Shake ingredients in a cocktail shaker with ice. Strain into glass.</td>\n",
       "      <td>| 1: Gin | 1 oz: Peach Schnapps | 1 oz: Triple Sec</td>\n",
       "      <td>There doesn't seem to be any nutritional facts associated to this cocktail. But we know that's not why you're here...</td>\n",
       "      <td>There doesn't seem to be an instructional video for this cocktail. Why not make the tutorial yourself!</td>\n",
       "      <td>[(1, Gin), (1 oz, Peach Schnapps), (1 oz, Triple Sec)]</td>\n",
       "    </tr>\n",
       "    <tr>\n",
       "      <th>2</th>\n",
       "      <td>2848</td>\n",
       "      <td>Jamaican 10-Speed</td>\n",
       "      <td>Unfortunately, we have no description for this drink... You'll have to describe it yourself!</td>\n",
       "      <td>Pour the Malibu rum. melon liqueur and creme de bananes into a highball glass filled with ice cubes. Add Juice - PineJuice - Apple Juice and a splash of milk. Stir well. and serve.</td>\n",
       "      <td>| 1.5 oz: Coconut Rum | 3/4 oz: Melon Liqueur | 3/4 oz: Creme De Bananes | 1 Splash(s): Milk | 3 oz: Apple Juice</td>\n",
       "      <td>There doesn't seem to be any nutritional facts associated to this cocktail. But we know that's not why you're here...</td>\n",
       "      <td>There doesn't seem to be an instructional video for this cocktail. Why not make the tutorial yourself!</td>\n",
       "      <td>[(1.5 oz, Coconut Rum), (3/4 oz, Melon Liqueur), (3/4 oz, Creme De Bananes), (1 Splash(s), Milk), (3 oz, Apple Juice)]</td>\n",
       "    </tr>\n",
       "    <tr>\n",
       "      <th>3</th>\n",
       "      <td>4003</td>\n",
       "      <td>Rooted in Survival Cocktail</td>\n",
       "      <td>Be sure to check out the rest of our Hunger Games cocktails &amp; Drinks</td>\n",
       "      <td>Add all ingredients in a tall Collins glass, stiradd ice, and garnish with a lemon twist.</td>\n",
       "      <td>| 2 oz: Silver Tequila | 1 oz: Carrot Juice | .5 oz: Lemon Juice | .5 oz: Agave Nectar | 1 dash: Bitters | 1 splash: Blood Orange Soda</td>\n",
       "      <td>Calories: 227kcal | Carbohydrates: 51g | Protein: 0.3g | Fat: 0.04g | Saturated Fat: 0.01g | Polyunsaturated Fat: 0.02g | Monounsaturated Fat: 0.002g | Sodium: 10mg | Potassium: 104mg | Fiber: 2g | Sugar: 12g | Vitamin A: 5650IU | Vitamin C: 12.4mg | Calcium: 150mg | Iron: 0.4mg</td>\n",
       "      <td>There doesn't seem to be an instructional video for this cocktail. Why not make the tutorial yourself!</td>\n",
       "      <td>[(2 oz, Silver Tequila), (1 oz, Carrot Juice), (.5 oz, Lemon Juice), (.5 oz, Agave Nectar), (1 dash, Bitters), (1 splash, Blood Orange Soda)]</td>\n",
       "    </tr>\n",
       "    <tr>\n",
       "      <th>4</th>\n",
       "      <td>4634</td>\n",
       "      <td>Amaretto Sour Classic</td>\n",
       "      <td>Learn how to make a Amaretto Sour cocktail with this simple recipe.</td>\n",
       "      <td>Add all ingredients to a shaker with no ice and shake to combine.Add Ice to the shaker and shake until chilledStrain over fresh ice into an Old Fashioned glass.Garnish with a maraschino cherry and orange slice.</td>\n",
       "      <td>| 1.5 oz: Almond Liqueur | .75 oz: Bourbon Whiskey | 1 oz: Sugar Syrup | 1 tsp: Lemon Juice | .5 oz: Egg White - Beaten | 1: Cherry | 1: Orange(s) - Slice</td>\n",
       "      <td>Calories: 225kcal | Carbohydrates: 39g | Protein: 2g | Fat: 0.05g | Saturated Fat: 0.004g | Polyunsaturated Fat: 0.005g | Monounsaturated Fat: 0.004g | Sodium: 25mg | Potassium: 49mg | Fiber: 0.4g | Sugar: 17g | Vitamin A: 25IU | Vitamin C: 10.7mg | Calcium: 4mg</td>\n",
       "      <td>There doesn't seem to be an instructional video for this cocktail. Why not make the tutorial yourself!</td>\n",
       "      <td>[(1.5 oz, Almond Liqueur), (.75 oz, Bourbon Whiskey), (1 oz, Sugar Syrup), (1 tsp, Lemon Juice), (.5 oz, Egg White - Beaten), (1, Cherry), (1, Orange(s) - Slice)]</td>\n",
       "    </tr>\n",
       "  </tbody>\n",
       "</table>\n",
       "</div>"
      ],
      "text/plain": [
       "   Unnamed: 0                         Name  \\\n",
       "0        1178    Chartreuse Chocolate Kiss   \n",
       "1          48                    Bellwitch   \n",
       "2        2848            Jamaican 10-Speed   \n",
       "3        4003  Rooted in Survival Cocktail   \n",
       "4        4634        Amaretto Sour Classic   \n",
       "\n",
       "                                                                                    Description  \\\n",
       "0  Unfortunately, we have no description for this drink... You'll have to describe it yourself!   \n",
       "1  Unfortunately, we have no description for this drink... You'll have to describe it yourself!   \n",
       "2  Unfortunately, we have no description for this drink... You'll have to describe it yourself!   \n",
       "3                          Be sure to check out the rest of our Hunger Games cocktails & Drinks   \n",
       "4                           Learn how to make a Amaretto Sour cocktail with this simple recipe.   \n",
       "\n",
       "                                                                                                                                                                                                               Recipe  \\\n",
       "0                                                                                                               Combine ingredients in an Irish coffe mug. Top with whipped cream and sprinkle of chocolate shavings.   \n",
       "1                                                                                                                                                 Shake ingredients in a cocktail shaker with ice. Strain into glass.   \n",
       "2                                Pour the Malibu rum. melon liqueur and creme de bananes into a highball glass filled with ice cubes. Add Juice - PineJuice - Apple Juice and a splash of milk. Stir well. and serve.   \n",
       "3                                                                                                                           Add all ingredients in a tall Collins glass, stiradd ice, and garnish with a lemon twist.   \n",
       "4  Add all ingredients to a shaker with no ice and shake to combine.Add Ice to the shaker and shake until chilledStrain over fresh ice into an Old Fashioned glass.Garnish with a maraschino cherry and orange slice.   \n",
       "\n",
       "                                                                                                                                                   Ingredients  \\\n",
       "0                                                 | .5 oz: Herbal Liqueur | 5 - 6 oz: Hot Chocolate | 1 Pinch(s): Chocolate Shavings | .5 -1:oz: Whipped Cream   \n",
       "1                                                                                                           | 1: Gin | 1 oz: Peach Schnapps | 1 oz: Triple Sec   \n",
       "2                                             | 1.5 oz: Coconut Rum | 3/4 oz: Melon Liqueur | 3/4 oz: Creme De Bananes | 1 Splash(s): Milk | 3 oz: Apple Juice   \n",
       "3                       | 2 oz: Silver Tequila | 1 oz: Carrot Juice | .5 oz: Lemon Juice | .5 oz: Agave Nectar | 1 dash: Bitters | 1 splash: Blood Orange Soda   \n",
       "4   | 1.5 oz: Almond Liqueur | .75 oz: Bourbon Whiskey | 1 oz: Sugar Syrup | 1 tsp: Lemon Juice | .5 oz: Egg White - Beaten | 1: Cherry | 1: Orange(s) - Slice   \n",
       "\n",
       "                                                                                                                                                                                                                                                                           Nutrition Facts  \\\n",
       "0                                                                                                                                                                    There doesn't seem to be any nutritional facts associated to this cocktail. But we know that's not why you're here...   \n",
       "1                                                                                                                                                                    There doesn't seem to be any nutritional facts associated to this cocktail. But we know that's not why you're here...   \n",
       "2                                                                                                                                                                    There doesn't seem to be any nutritional facts associated to this cocktail. But we know that's not why you're here...   \n",
       "3  Calories: 227kcal | Carbohydrates: 51g | Protein: 0.3g | Fat: 0.04g | Saturated Fat: 0.01g | Polyunsaturated Fat: 0.02g | Monounsaturated Fat: 0.002g | Sodium: 10mg | Potassium: 104mg | Fiber: 2g | Sugar: 12g | Vitamin A: 5650IU | Vitamin C: 12.4mg | Calcium: 150mg | Iron: 0.4mg   \n",
       "4                   Calories: 225kcal | Carbohydrates: 39g | Protein: 2g | Fat: 0.05g | Saturated Fat: 0.004g | Polyunsaturated Fat: 0.005g | Monounsaturated Fat: 0.004g | Sodium: 25mg | Potassium: 49mg | Fiber: 0.4g | Sugar: 17g | Vitamin A: 25IU | Vitamin C: 10.7mg | Calcium: 4mg   \n",
       "\n",
       "                                                                                               Video Link  \\\n",
       "0  There doesn't seem to be an instructional video for this cocktail. Why not make the tutorial yourself!   \n",
       "1  There doesn't seem to be an instructional video for this cocktail. Why not make the tutorial yourself!   \n",
       "2  There doesn't seem to be an instructional video for this cocktail. Why not make the tutorial yourself!   \n",
       "3  There doesn't seem to be an instructional video for this cocktail. Why not make the tutorial yourself!   \n",
       "4  There doesn't seem to be an instructional video for this cocktail. Why not make the tutorial yourself!   \n",
       "\n",
       "                                                                                                                                                         ingredients2  \n",
       "0                                                   [(.5 oz, Herbal Liqueur), (5 - 6 oz, Hot Chocolate), (1 Pinch(s), Chocolate Shavings), (.5 -1 oz, Whipped Cream)]  \n",
       "1                                                                                                              [(1, Gin), (1 oz, Peach Schnapps), (1 oz, Triple Sec)]  \n",
       "2                                              [(1.5 oz, Coconut Rum), (3/4 oz, Melon Liqueur), (3/4 oz, Creme De Bananes), (1 Splash(s), Milk), (3 oz, Apple Juice)]  \n",
       "3                       [(2 oz, Silver Tequila), (1 oz, Carrot Juice), (.5 oz, Lemon Juice), (.5 oz, Agave Nectar), (1 dash, Bitters), (1 splash, Blood Orange Soda)]  \n",
       "4  [(1.5 oz, Almond Liqueur), (.75 oz, Bourbon Whiskey), (1 oz, Sugar Syrup), (1 tsp, Lemon Juice), (.5 oz, Egg White - Beaten), (1, Cherry), (1, Orange(s) - Slice)]  "
      ]
     },
     "execution_count": 56,
     "metadata": {},
     "output_type": "execute_result"
    }
   ],
   "source": [
    "ctl_df.head(5)"
   ]
  },
  {
   "cell_type": "code",
   "execution_count": 55,
   "metadata": {},
   "outputs": [
    {
     "data": {
      "text/html": [
       "<div>\n",
       "<style scoped>\n",
       "    .dataframe tbody tr th:only-of-type {\n",
       "        vertical-align: middle;\n",
       "    }\n",
       "\n",
       "    .dataframe tbody tr th {\n",
       "        vertical-align: top;\n",
       "    }\n",
       "\n",
       "    .dataframe thead th {\n",
       "        text-align: right;\n",
       "    }\n",
       "</style>\n",
       "<table border=\"1\" class=\"dataframe\">\n",
       "  <thead>\n",
       "    <tr style=\"text-align: right;\">\n",
       "      <th></th>\n",
       "      <th>Unnamed: 0</th>\n",
       "      <th>Name</th>\n",
       "      <th>Description</th>\n",
       "      <th>Recipe</th>\n",
       "      <th>Ingredients</th>\n",
       "      <th>Nutrition Facts</th>\n",
       "      <th>Video Link</th>\n",
       "      <th>ingredients2</th>\n",
       "    </tr>\n",
       "  </thead>\n",
       "  <tbody>\n",
       "    <tr>\n",
       "      <th>0</th>\n",
       "      <td>1178</td>\n",
       "      <td>Chartreuse Chocolate Kiss</td>\n",
       "      <td>Unfortunately, we have no description for this drink... You'll have to describe it yourself!</td>\n",
       "      <td>Combine ingredients in an Irish coffe mug. Top with whipped cream and sprinkle of chocolate shavings.</td>\n",
       "      <td>| .5 oz: Herbal Liqueur | 5 - 6 oz: Hot Chocolate | 1 Pinch(s): Chocolate Shavings | .5 -1:oz: Whipped Cream</td>\n",
       "      <td>There doesn't seem to be any nutritional facts associated to this cocktail. But we know that's not why you're here...</td>\n",
       "      <td>There doesn't seem to be an instructional video for this cocktail. Why not make the tutorial yourself!</td>\n",
       "      <td>(.5 oz, Herbal Liqueur)</td>\n",
       "    </tr>\n",
       "    <tr>\n",
       "      <th>0</th>\n",
       "      <td>1178</td>\n",
       "      <td>Chartreuse Chocolate Kiss</td>\n",
       "      <td>Unfortunately, we have no description for this drink... You'll have to describe it yourself!</td>\n",
       "      <td>Combine ingredients in an Irish coffe mug. Top with whipped cream and sprinkle of chocolate shavings.</td>\n",
       "      <td>| .5 oz: Herbal Liqueur | 5 - 6 oz: Hot Chocolate | 1 Pinch(s): Chocolate Shavings | .5 -1:oz: Whipped Cream</td>\n",
       "      <td>There doesn't seem to be any nutritional facts associated to this cocktail. But we know that's not why you're here...</td>\n",
       "      <td>There doesn't seem to be an instructional video for this cocktail. Why not make the tutorial yourself!</td>\n",
       "      <td>(5 - 6 oz, Hot Chocolate)</td>\n",
       "    </tr>\n",
       "    <tr>\n",
       "      <th>0</th>\n",
       "      <td>1178</td>\n",
       "      <td>Chartreuse Chocolate Kiss</td>\n",
       "      <td>Unfortunately, we have no description for this drink... You'll have to describe it yourself!</td>\n",
       "      <td>Combine ingredients in an Irish coffe mug. Top with whipped cream and sprinkle of chocolate shavings.</td>\n",
       "      <td>| .5 oz: Herbal Liqueur | 5 - 6 oz: Hot Chocolate | 1 Pinch(s): Chocolate Shavings | .5 -1:oz: Whipped Cream</td>\n",
       "      <td>There doesn't seem to be any nutritional facts associated to this cocktail. But we know that's not why you're here...</td>\n",
       "      <td>There doesn't seem to be an instructional video for this cocktail. Why not make the tutorial yourself!</td>\n",
       "      <td>(1 Pinch(s), Chocolate Shavings)</td>\n",
       "    </tr>\n",
       "    <tr>\n",
       "      <th>0</th>\n",
       "      <td>1178</td>\n",
       "      <td>Chartreuse Chocolate Kiss</td>\n",
       "      <td>Unfortunately, we have no description for this drink... You'll have to describe it yourself!</td>\n",
       "      <td>Combine ingredients in an Irish coffe mug. Top with whipped cream and sprinkle of chocolate shavings.</td>\n",
       "      <td>| .5 oz: Herbal Liqueur | 5 - 6 oz: Hot Chocolate | 1 Pinch(s): Chocolate Shavings | .5 -1:oz: Whipped Cream</td>\n",
       "      <td>There doesn't seem to be any nutritional facts associated to this cocktail. But we know that's not why you're here...</td>\n",
       "      <td>There doesn't seem to be an instructional video for this cocktail. Why not make the tutorial yourself!</td>\n",
       "      <td>(.5 -1 oz, Whipped Cream)</td>\n",
       "    </tr>\n",
       "    <tr>\n",
       "      <th>1</th>\n",
       "      <td>48</td>\n",
       "      <td>Bellwitch</td>\n",
       "      <td>Unfortunately, we have no description for this drink... You'll have to describe it yourself!</td>\n",
       "      <td>Shake ingredients in a cocktail shaker with ice. Strain into glass.</td>\n",
       "      <td>| 1: Gin | 1 oz: Peach Schnapps | 1 oz: Triple Sec</td>\n",
       "      <td>There doesn't seem to be any nutritional facts associated to this cocktail. But we know that's not why you're here...</td>\n",
       "      <td>There doesn't seem to be an instructional video for this cocktail. Why not make the tutorial yourself!</td>\n",
       "      <td>(1, Gin)</td>\n",
       "    </tr>\n",
       "  </tbody>\n",
       "</table>\n",
       "</div>"
      ],
      "text/plain": [
       "   Unnamed: 0                       Name  \\\n",
       "0        1178  Chartreuse Chocolate Kiss   \n",
       "0        1178  Chartreuse Chocolate Kiss   \n",
       "0        1178  Chartreuse Chocolate Kiss   \n",
       "0        1178  Chartreuse Chocolate Kiss   \n",
       "1          48                  Bellwitch   \n",
       "\n",
       "                                                                                    Description  \\\n",
       "0  Unfortunately, we have no description for this drink... You'll have to describe it yourself!   \n",
       "0  Unfortunately, we have no description for this drink... You'll have to describe it yourself!   \n",
       "0  Unfortunately, we have no description for this drink... You'll have to describe it yourself!   \n",
       "0  Unfortunately, we have no description for this drink... You'll have to describe it yourself!   \n",
       "1  Unfortunately, we have no description for this drink... You'll have to describe it yourself!   \n",
       "\n",
       "                                                                                                  Recipe  \\\n",
       "0  Combine ingredients in an Irish coffe mug. Top with whipped cream and sprinkle of chocolate shavings.   \n",
       "0  Combine ingredients in an Irish coffe mug. Top with whipped cream and sprinkle of chocolate shavings.   \n",
       "0  Combine ingredients in an Irish coffe mug. Top with whipped cream and sprinkle of chocolate shavings.   \n",
       "0  Combine ingredients in an Irish coffe mug. Top with whipped cream and sprinkle of chocolate shavings.   \n",
       "1                                    Shake ingredients in a cocktail shaker with ice. Strain into glass.   \n",
       "\n",
       "                                                                                                     Ingredients  \\\n",
       "0   | .5 oz: Herbal Liqueur | 5 - 6 oz: Hot Chocolate | 1 Pinch(s): Chocolate Shavings | .5 -1:oz: Whipped Cream   \n",
       "0   | .5 oz: Herbal Liqueur | 5 - 6 oz: Hot Chocolate | 1 Pinch(s): Chocolate Shavings | .5 -1:oz: Whipped Cream   \n",
       "0   | .5 oz: Herbal Liqueur | 5 - 6 oz: Hot Chocolate | 1 Pinch(s): Chocolate Shavings | .5 -1:oz: Whipped Cream   \n",
       "0   | .5 oz: Herbal Liqueur | 5 - 6 oz: Hot Chocolate | 1 Pinch(s): Chocolate Shavings | .5 -1:oz: Whipped Cream   \n",
       "1                                                             | 1: Gin | 1 oz: Peach Schnapps | 1 oz: Triple Sec   \n",
       "\n",
       "                                                                                                         Nutrition Facts  \\\n",
       "0  There doesn't seem to be any nutritional facts associated to this cocktail. But we know that's not why you're here...   \n",
       "0  There doesn't seem to be any nutritional facts associated to this cocktail. But we know that's not why you're here...   \n",
       "0  There doesn't seem to be any nutritional facts associated to this cocktail. But we know that's not why you're here...   \n",
       "0  There doesn't seem to be any nutritional facts associated to this cocktail. But we know that's not why you're here...   \n",
       "1  There doesn't seem to be any nutritional facts associated to this cocktail. But we know that's not why you're here...   \n",
       "\n",
       "                                                                                               Video Link  \\\n",
       "0  There doesn't seem to be an instructional video for this cocktail. Why not make the tutorial yourself!   \n",
       "0  There doesn't seem to be an instructional video for this cocktail. Why not make the tutorial yourself!   \n",
       "0  There doesn't seem to be an instructional video for this cocktail. Why not make the tutorial yourself!   \n",
       "0  There doesn't seem to be an instructional video for this cocktail. Why not make the tutorial yourself!   \n",
       "1  There doesn't seem to be an instructional video for this cocktail. Why not make the tutorial yourself!   \n",
       "\n",
       "                       ingredients2  \n",
       "0           (.5 oz, Herbal Liqueur)  \n",
       "0         (5 - 6 oz, Hot Chocolate)  \n",
       "0  (1 Pinch(s), Chocolate Shavings)  \n",
       "0         (.5 -1 oz, Whipped Cream)  \n",
       "1                          (1, Gin)  "
      ]
     },
     "execution_count": 55,
     "metadata": {},
     "output_type": "execute_result"
    }
   ],
   "source": [
    "df_exploded = ctl_df.explode('ingredients2')\n",
    "df_exploded.head(5)"
   ]
  },
  {
   "cell_type": "code",
   "execution_count": 54,
   "metadata": {},
   "outputs": [
    {
     "data": {
      "text/html": [
       "<div>\n",
       "<style scoped>\n",
       "    .dataframe tbody tr th:only-of-type {\n",
       "        vertical-align: middle;\n",
       "    }\n",
       "\n",
       "    .dataframe tbody tr th {\n",
       "        vertical-align: top;\n",
       "    }\n",
       "\n",
       "    .dataframe thead th {\n",
       "        text-align: right;\n",
       "    }\n",
       "</style>\n",
       "<table border=\"1\" class=\"dataframe\">\n",
       "  <thead>\n",
       "    <tr style=\"text-align: right;\">\n",
       "      <th></th>\n",
       "      <th>Unnamed: 0</th>\n",
       "      <th>Name</th>\n",
       "      <th>Description</th>\n",
       "      <th>Recipe</th>\n",
       "      <th>Ingredients</th>\n",
       "      <th>Nutrition Facts</th>\n",
       "      <th>Video Link</th>\n",
       "      <th>ingredients2</th>\n",
       "      <th>quantity</th>\n",
       "      <th>ingredient</th>\n",
       "    </tr>\n",
       "  </thead>\n",
       "  <tbody>\n",
       "    <tr>\n",
       "      <th>0</th>\n",
       "      <td>1178</td>\n",
       "      <td>Chartreuse Chocolate Kiss</td>\n",
       "      <td>Unfortunately, we have no description for this drink... You'll have to describe it yourself!</td>\n",
       "      <td>Combine ingredients in an Irish coffe mug. Top with whipped cream and sprinkle of chocolate shavings.</td>\n",
       "      <td>| .5 oz: Herbal Liqueur | 5 - 6 oz: Hot Chocolate | 1 Pinch(s): Chocolate Shavings | .5 -1:oz: Whipped Cream</td>\n",
       "      <td>There doesn't seem to be any nutritional facts associated to this cocktail. But we know that's not why you're here...</td>\n",
       "      <td>There doesn't seem to be an instructional video for this cocktail. Why not make the tutorial yourself!</td>\n",
       "      <td>(.5 oz, Herbal Liqueur)</td>\n",
       "      <td>.5 oz</td>\n",
       "      <td>Herbal Liqueur</td>\n",
       "    </tr>\n",
       "    <tr>\n",
       "      <th>0</th>\n",
       "      <td>1178</td>\n",
       "      <td>Chartreuse Chocolate Kiss</td>\n",
       "      <td>Unfortunately, we have no description for this drink... You'll have to describe it yourself!</td>\n",
       "      <td>Combine ingredients in an Irish coffe mug. Top with whipped cream and sprinkle of chocolate shavings.</td>\n",
       "      <td>| .5 oz: Herbal Liqueur | 5 - 6 oz: Hot Chocolate | 1 Pinch(s): Chocolate Shavings | .5 -1:oz: Whipped Cream</td>\n",
       "      <td>There doesn't seem to be any nutritional facts associated to this cocktail. But we know that's not why you're here...</td>\n",
       "      <td>There doesn't seem to be an instructional video for this cocktail. Why not make the tutorial yourself!</td>\n",
       "      <td>(5 - 6 oz, Hot Chocolate)</td>\n",
       "      <td>5 - 6 oz</td>\n",
       "      <td>Hot Chocolate</td>\n",
       "    </tr>\n",
       "    <tr>\n",
       "      <th>0</th>\n",
       "      <td>1178</td>\n",
       "      <td>Chartreuse Chocolate Kiss</td>\n",
       "      <td>Unfortunately, we have no description for this drink... You'll have to describe it yourself!</td>\n",
       "      <td>Combine ingredients in an Irish coffe mug. Top with whipped cream and sprinkle of chocolate shavings.</td>\n",
       "      <td>| .5 oz: Herbal Liqueur | 5 - 6 oz: Hot Chocolate | 1 Pinch(s): Chocolate Shavings | .5 -1:oz: Whipped Cream</td>\n",
       "      <td>There doesn't seem to be any nutritional facts associated to this cocktail. But we know that's not why you're here...</td>\n",
       "      <td>There doesn't seem to be an instructional video for this cocktail. Why not make the tutorial yourself!</td>\n",
       "      <td>(1 Pinch(s), Chocolate Shavings)</td>\n",
       "      <td>1 Pinch(s)</td>\n",
       "      <td>Chocolate Shavings</td>\n",
       "    </tr>\n",
       "    <tr>\n",
       "      <th>0</th>\n",
       "      <td>1178</td>\n",
       "      <td>Chartreuse Chocolate Kiss</td>\n",
       "      <td>Unfortunately, we have no description for this drink... You'll have to describe it yourself!</td>\n",
       "      <td>Combine ingredients in an Irish coffe mug. Top with whipped cream and sprinkle of chocolate shavings.</td>\n",
       "      <td>| .5 oz: Herbal Liqueur | 5 - 6 oz: Hot Chocolate | 1 Pinch(s): Chocolate Shavings | .5 -1:oz: Whipped Cream</td>\n",
       "      <td>There doesn't seem to be any nutritional facts associated to this cocktail. But we know that's not why you're here...</td>\n",
       "      <td>There doesn't seem to be an instructional video for this cocktail. Why not make the tutorial yourself!</td>\n",
       "      <td>(.5 -1 oz, Whipped Cream)</td>\n",
       "      <td>.5 -1 oz</td>\n",
       "      <td>Whipped Cream</td>\n",
       "    </tr>\n",
       "    <tr>\n",
       "      <th>1</th>\n",
       "      <td>48</td>\n",
       "      <td>Bellwitch</td>\n",
       "      <td>Unfortunately, we have no description for this drink... You'll have to describe it yourself!</td>\n",
       "      <td>Shake ingredients in a cocktail shaker with ice. Strain into glass.</td>\n",
       "      <td>| 1: Gin | 1 oz: Peach Schnapps | 1 oz: Triple Sec</td>\n",
       "      <td>There doesn't seem to be any nutritional facts associated to this cocktail. But we know that's not why you're here...</td>\n",
       "      <td>There doesn't seem to be an instructional video for this cocktail. Why not make the tutorial yourself!</td>\n",
       "      <td>(1, Gin)</td>\n",
       "      <td>1</td>\n",
       "      <td>Gin</td>\n",
       "    </tr>\n",
       "  </tbody>\n",
       "</table>\n",
       "</div>"
      ],
      "text/plain": [
       "   Unnamed: 0                       Name  \\\n",
       "0        1178  Chartreuse Chocolate Kiss   \n",
       "0        1178  Chartreuse Chocolate Kiss   \n",
       "0        1178  Chartreuse Chocolate Kiss   \n",
       "0        1178  Chartreuse Chocolate Kiss   \n",
       "1          48                  Bellwitch   \n",
       "\n",
       "                                                                                    Description  \\\n",
       "0  Unfortunately, we have no description for this drink... You'll have to describe it yourself!   \n",
       "0  Unfortunately, we have no description for this drink... You'll have to describe it yourself!   \n",
       "0  Unfortunately, we have no description for this drink... You'll have to describe it yourself!   \n",
       "0  Unfortunately, we have no description for this drink... You'll have to describe it yourself!   \n",
       "1  Unfortunately, we have no description for this drink... You'll have to describe it yourself!   \n",
       "\n",
       "                                                                                                  Recipe  \\\n",
       "0  Combine ingredients in an Irish coffe mug. Top with whipped cream and sprinkle of chocolate shavings.   \n",
       "0  Combine ingredients in an Irish coffe mug. Top with whipped cream and sprinkle of chocolate shavings.   \n",
       "0  Combine ingredients in an Irish coffe mug. Top with whipped cream and sprinkle of chocolate shavings.   \n",
       "0  Combine ingredients in an Irish coffe mug. Top with whipped cream and sprinkle of chocolate shavings.   \n",
       "1                                    Shake ingredients in a cocktail shaker with ice. Strain into glass.   \n",
       "\n",
       "                                                                                                     Ingredients  \\\n",
       "0   | .5 oz: Herbal Liqueur | 5 - 6 oz: Hot Chocolate | 1 Pinch(s): Chocolate Shavings | .5 -1:oz: Whipped Cream   \n",
       "0   | .5 oz: Herbal Liqueur | 5 - 6 oz: Hot Chocolate | 1 Pinch(s): Chocolate Shavings | .5 -1:oz: Whipped Cream   \n",
       "0   | .5 oz: Herbal Liqueur | 5 - 6 oz: Hot Chocolate | 1 Pinch(s): Chocolate Shavings | .5 -1:oz: Whipped Cream   \n",
       "0   | .5 oz: Herbal Liqueur | 5 - 6 oz: Hot Chocolate | 1 Pinch(s): Chocolate Shavings | .5 -1:oz: Whipped Cream   \n",
       "1                                                             | 1: Gin | 1 oz: Peach Schnapps | 1 oz: Triple Sec   \n",
       "\n",
       "                                                                                                         Nutrition Facts  \\\n",
       "0  There doesn't seem to be any nutritional facts associated to this cocktail. But we know that's not why you're here...   \n",
       "0  There doesn't seem to be any nutritional facts associated to this cocktail. But we know that's not why you're here...   \n",
       "0  There doesn't seem to be any nutritional facts associated to this cocktail. But we know that's not why you're here...   \n",
       "0  There doesn't seem to be any nutritional facts associated to this cocktail. But we know that's not why you're here...   \n",
       "1  There doesn't seem to be any nutritional facts associated to this cocktail. But we know that's not why you're here...   \n",
       "\n",
       "                                                                                               Video Link  \\\n",
       "0  There doesn't seem to be an instructional video for this cocktail. Why not make the tutorial yourself!   \n",
       "0  There doesn't seem to be an instructional video for this cocktail. Why not make the tutorial yourself!   \n",
       "0  There doesn't seem to be an instructional video for this cocktail. Why not make the tutorial yourself!   \n",
       "0  There doesn't seem to be an instructional video for this cocktail. Why not make the tutorial yourself!   \n",
       "1  There doesn't seem to be an instructional video for this cocktail. Why not make the tutorial yourself!   \n",
       "\n",
       "                       ingredients2    quantity          ingredient  \n",
       "0           (.5 oz, Herbal Liqueur)       .5 oz      Herbal Liqueur  \n",
       "0         (5 - 6 oz, Hot Chocolate)    5 - 6 oz       Hot Chocolate  \n",
       "0  (1 Pinch(s), Chocolate Shavings)  1 Pinch(s)  Chocolate Shavings  \n",
       "0         (.5 -1 oz, Whipped Cream)    .5 -1 oz       Whipped Cream  \n",
       "1                          (1, Gin)           1                 Gin  "
      ]
     },
     "execution_count": 54,
     "metadata": {},
     "output_type": "execute_result"
    }
   ],
   "source": [
    "df_exploded[['quantity','ingredient']] = pd.DataFrame(df_exploded['ingredients2'].tolist(), index=df_exploded.index)\n",
    "#df_exploded[['quantity','ingredient']] = pd.DataFrame(df_exploded['ingredients2'].apply(pd.Series)) # same as above - tidier code but is slower (so I read, not tested)\n",
    "df_exploded.head(5)"
   ]
  },
  {
   "cell_type": "markdown",
   "metadata": {},
   "source": [
    "### Clean Nutrition Facts column :  \n",
    "Drop eveything but the calories & sugar content"
   ]
  },
  {
   "cell_type": "code",
   "execution_count": 24,
   "metadata": {},
   "outputs": [
    {
     "data": {
      "text/plain": [
       "0                                                                                                                                                                      There doesn't seem to be any nutritional facts associated to this cocktail. But we know that's not why you're here...\n",
       "1                                                                                                                                                                      There doesn't seem to be any nutritional facts associated to this cocktail. But we know that's not why you're here...\n",
       "2                                                                                                                                                                      There doesn't seem to be any nutritional facts associated to this cocktail. But we know that's not why you're here...\n",
       "3    Calories: 227kcal | Carbohydrates: 51g | Protein: 0.3g | Fat: 0.04g | Saturated Fat: 0.01g | Polyunsaturated Fat: 0.02g | Monounsaturated Fat: 0.002g | Sodium: 10mg | Potassium: 104mg | Fiber: 2g | Sugar: 12g | Vitamin A: 5650IU | Vitamin C: 12.4mg | Calcium: 150mg | Iron: 0.4mg\n",
       "4                     Calories: 225kcal | Carbohydrates: 39g | Protein: 2g | Fat: 0.05g | Saturated Fat: 0.004g | Polyunsaturated Fat: 0.005g | Monounsaturated Fat: 0.004g | Sodium: 25mg | Potassium: 49mg | Fiber: 0.4g | Sugar: 17g | Vitamin A: 25IU | Vitamin C: 10.7mg | Calcium: 4mg\n",
       "5                                                                                                                                                                      There doesn't seem to be any nutritional facts associated to this cocktail. But we know that's not why you're here...\n",
       "6                                                                                                                                                                      There doesn't seem to be any nutritional facts associated to this cocktail. But we know that's not why you're here...\n",
       "7                                                                                                                                                                      There doesn't seem to be any nutritional facts associated to this cocktail. But we know that's not why you're here...\n",
       "8                                                                                                                                                                      There doesn't seem to be any nutritional facts associated to this cocktail. But we know that's not why you're here...\n",
       "9                                                                                                                                                                      There doesn't seem to be any nutritional facts associated to this cocktail. But we know that's not why you're here...\n",
       "Name: Nutrition Facts, dtype: object"
      ]
     },
     "execution_count": 24,
     "metadata": {},
     "output_type": "execute_result"
    }
   ],
   "source": [
    "ctl_df['Nutrition Facts']"
   ]
  },
  {
   "cell_type": "code",
   "execution_count": 25,
   "metadata": {},
   "outputs": [
    {
     "data": {
      "text/plain": [
       "0                                                                                                                                                                      There doesn't seem to be any nutritional facts associated to this cocktail. But we know that's not why you're here...\n",
       "1                                                                                                                                                                      There doesn't seem to be any nutritional facts associated to this cocktail. But we know that's not why you're here...\n",
       "2                                                                                                                                                                      There doesn't seem to be any nutritional facts associated to this cocktail. But we know that's not why you're here...\n",
       "3    Calories: 227kcal | Carbohydrates: 51g | Protein: 0.3g | Fat: 0.04g | Saturated Fat: 0.01g | Polyunsaturated Fat: 0.02g | Monounsaturated Fat: 0.002g | Sodium: 10mg | Potassium: 104mg | Fiber: 2g | Sugar: 12g | Vitamin A: 5650IU | Vitamin C: 12.4mg | Calcium: 150mg | Iron: 0.4mg\n",
       "4                     Calories: 225kcal | Carbohydrates: 39g | Protein: 2g | Fat: 0.05g | Saturated Fat: 0.004g | Polyunsaturated Fat: 0.005g | Monounsaturated Fat: 0.004g | Sodium: 25mg | Potassium: 49mg | Fiber: 0.4g | Sugar: 17g | Vitamin A: 25IU | Vitamin C: 10.7mg | Calcium: 4mg\n",
       "5                                                                                                                                                                      There doesn't seem to be any nutritional facts associated to this cocktail. But we know that's not why you're here...\n",
       "6                                                                                                                                                                      There doesn't seem to be any nutritional facts associated to this cocktail. But we know that's not why you're here...\n",
       "7                                                                                                                                                                      There doesn't seem to be any nutritional facts associated to this cocktail. But we know that's not why you're here...\n",
       "8                                                                                                                                                                      There doesn't seem to be any nutritional facts associated to this cocktail. But we know that's not why you're here...\n",
       "9                                                                                                                                                                      There doesn't seem to be any nutritional facts associated to this cocktail. But we know that's not why you're here...\n",
       "Name: Nutrition Facts, dtype: object"
      ]
     },
     "execution_count": 25,
     "metadata": {},
     "output_type": "execute_result"
    }
   ],
   "source": [
    "ctl_df['Nutrition Facts']"
   ]
  }
 ],
 "metadata": {
  "kernelspec": {
   "display_name": "Python 3 (ipykernel)",
   "language": "python",
   "name": "python3"
  },
  "language_info": {
   "codemirror_mode": {
    "name": "ipython",
    "version": 3
   },
   "file_extension": ".py",
   "mimetype": "text/x-python",
   "name": "python",
   "nbconvert_exporter": "python",
   "pygments_lexer": "ipython3",
   "version": "3.11.2"
  }
 },
 "nbformat": 4,
 "nbformat_minor": 4
}
